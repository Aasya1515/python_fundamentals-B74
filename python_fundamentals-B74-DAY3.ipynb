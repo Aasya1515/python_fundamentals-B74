{
 "cells": [
  {
   "cell_type": "code",
   "execution_count": null,
   "id": "346b8aca",
   "metadata": {},
   "outputs": [],
   "source": []
  },
  {
   "cell_type": "code",
   "execution_count": 1,
   "id": "30a3422b",
   "metadata": {},
   "outputs": [],
   "source": [
    "first_name = 'sri chandana'\n",
    "last_name = 'singam reddy'"
   ]
  },
  {
   "cell_type": "code",
   "execution_count": 2,
   "id": "b0e8d8ab",
   "metadata": {},
   "outputs": [
    {
     "name": "stdout",
     "output_type": "stream",
     "text": [
      "sri chandana singam reddy\n"
     ]
    }
   ],
   "source": [
    "full_name = f\"{first_name} {last_name}\"\n",
    "print(full_name)"
   ]
  },
  {
   "cell_type": "code",
   "execution_count": 3,
   "id": "e92615f8",
   "metadata": {},
   "outputs": [
    {
     "name": "stdout",
     "output_type": "stream",
     "text": [
      "Sri Chandana Singam Reddy\n"
     ]
    }
   ],
   "source": [
    "full_name = f\"{first_name.title()} {last_name.title()}\"\n",
    "print(full_name)"
   ]
  },
  {
   "cell_type": "code",
   "execution_count": 4,
   "id": "b3a82206",
   "metadata": {},
   "outputs": [
    {
     "name": "stdout",
     "output_type": "stream",
     "text": [
      "keep up the good work,Sri Chandana Singam Reddy\n"
     ]
    }
   ],
   "source": [
    "message = f\"keep up the good work,{full_name}\"\n",
    "print(message)"
   ]
  },
  {
   "cell_type": "code",
   "execution_count": 5,
   "id": "4c43a62a",
   "metadata": {},
   "outputs": [
    {
     "name": "stdout",
     "output_type": "stream",
     "text": [
      "favorite_programing_language:pythonjavac++cobalpascal\n"
     ]
    }
   ],
   "source": [
    "print(\"favorite_programing_language:pythonjavac++cobalpascal\")"
   ]
  },
  {
   "cell_type": "code",
   "execution_count": 6,
   "id": "1e50ff50",
   "metadata": {},
   "outputs": [
    {
     "name": "stdout",
     "output_type": "stream",
     "text": [
      "favorite_programing_language:\n",
      "python\n",
      "java\n",
      "c++\n",
      "cobal\n",
      "pascal\n"
     ]
    }
   ],
   "source": [
    "print(\"favorite_programing_language:\\npython\\njava\\nc++\\ncobal\\npascal\")"
   ]
  },
  {
   "cell_type": "code",
   "execution_count": 7,
   "id": "4b27fc82",
   "metadata": {},
   "outputs": [
    {
     "name": "stdout",
     "output_type": "stream",
     "text": [
      "favorite_programing_language:\n",
      "\tpython\n",
      "\tjava\n",
      "\tc++\n",
      "\tcobal\n",
      "\tpascal\n"
     ]
    }
   ],
   "source": [
    "print(\"favorite_programing_language:\\n\\tpython\\n\\tjava\\n\\tc++\\n\\tcobal\\n\\tpascal\")"
   ]
  },
  {
   "cell_type": "code",
   "execution_count": 8,
   "id": "d6e761d5",
   "metadata": {},
   "outputs": [
    {
     "name": "stdout",
     "output_type": "stream",
     "text": [
      "python\n"
     ]
    }
   ],
   "source": [
    "name = 'python'\n",
    "print(name)"
   ]
  },
  {
   "cell_type": "code",
   "execution_count": 9,
   "id": "914ea04c",
   "metadata": {},
   "outputs": [
    {
     "name": "stdout",
     "output_type": "stream",
     "text": [
      "   python\n"
     ]
    }
   ],
   "source": [
    "name1 = '   python'\n",
    "print(name1)"
   ]
  },
  {
   "cell_type": "code",
   "execution_count": 10,
   "id": "a2057a37",
   "metadata": {},
   "outputs": [
    {
     "name": "stdout",
     "output_type": "stream",
     "text": [
      "python   \n"
     ]
    }
   ],
   "source": [
    "name3 = 'python   '\n",
    "print(name3)"
   ]
  },
  {
   "cell_type": "code",
   "execution_count": 12,
   "id": "f7791126",
   "metadata": {},
   "outputs": [
    {
     "data": {
      "text/plain": [
       "'python'"
      ]
     },
     "execution_count": 12,
     "metadata": {},
     "output_type": "execute_result"
    }
   ],
   "source": [
    "name1.lstrip()"
   ]
  },
  {
   "cell_type": "code",
   "execution_count": 13,
   "id": "22ba8157",
   "metadata": {},
   "outputs": [
    {
     "data": {
      "text/plain": [
       "'python'"
      ]
     },
     "execution_count": 13,
     "metadata": {},
     "output_type": "execute_result"
    }
   ],
   "source": [
    "name3.rstrip()"
   ]
  },
  {
   "cell_type": "code",
   "execution_count": 14,
   "id": "969a918b",
   "metadata": {},
   "outputs": [
    {
     "name": "stdout",
     "output_type": "stream",
     "text": [
      "    python   \n"
     ]
    }
   ],
   "source": [
    "name4 = '    python   '\n",
    "print(name4)"
   ]
  },
  {
   "cell_type": "code",
   "execution_count": 15,
   "id": "2b5f78f2",
   "metadata": {},
   "outputs": [
    {
     "data": {
      "text/plain": [
       "'python'"
      ]
     },
     "execution_count": 15,
     "metadata": {},
     "output_type": "execute_result"
    }
   ],
   "source": [
    "name4.strip()"
   ]
  },
  {
   "cell_type": "code",
   "execution_count": null,
   "id": "0745b049",
   "metadata": {},
   "outputs": [],
   "source": []
  }
 ],
 "metadata": {
  "kernelspec": {
   "display_name": "Python 3 (ipykernel)",
   "language": "python",
   "name": "python3"
  },
  "language_info": {
   "codemirror_mode": {
    "name": "ipython",
    "version": 3
   },
   "file_extension": ".py",
   "mimetype": "text/x-python",
   "name": "python",
   "nbconvert_exporter": "python",
   "pygments_lexer": "ipython3",
   "version": "3.9.13"
  }
 },
 "nbformat": 4,
 "nbformat_minor": 5
}
