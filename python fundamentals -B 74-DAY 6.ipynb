{
 "cells": [
  {
   "cell_type": "code",
   "execution_count": null,
   "id": "608c0f92",
   "metadata": {},
   "outputs": [],
   "source": [
    "LOOPING STATEMENTS:"
   ]
  },
  {
   "cell_type": "code",
   "execution_count": null,
   "id": "51580fd2",
   "metadata": {},
   "outputs": [],
   "source": [
    "for Loop:  "
   ]
  },
  {
   "cell_type": "code",
   "execution_count": null,
   "id": "3cef544e",
   "metadata": {},
   "outputs": [],
   "source": [
    "general syntax (formula)\n",
    "for temp_var in main_var:\n",
    "    print(temp_var)"
   ]
  },
  {
   "cell_type": "code",
   "execution_count": null,
   "id": "2ff0ee19",
   "metadata": {},
   "outputs": [],
   "source": []
  },
  {
   "cell_type": "code",
   "execution_count": 1,
   "id": "30c30a45",
   "metadata": {},
   "outputs": [],
   "source": [
    "students = ['babbi','baby','nani','raja','sweety']"
   ]
  },
  {
   "cell_type": "code",
   "execution_count": 2,
   "id": "e7f9d722",
   "metadata": {},
   "outputs": [
    {
     "name": "stdout",
     "output_type": "stream",
     "text": [
      "['babbi', 'baby', 'nani', 'raja', 'sweety']\n"
     ]
    }
   ],
   "source": [
    "print(students)"
   ]
  },
  {
   "cell_type": "code",
   "execution_count": 3,
   "id": "9d60c80d",
   "metadata": {},
   "outputs": [
    {
     "data": {
      "text/plain": [
       "list"
      ]
     },
     "execution_count": 3,
     "metadata": {},
     "output_type": "execute_result"
    }
   ],
   "source": [
    "type(students)"
   ]
  },
  {
   "cell_type": "code",
   "execution_count": null,
   "id": "5a996beb",
   "metadata": {},
   "outputs": [],
   "source": [
    "appreciating students :"
   ]
  },
  {
   "cell_type": "code",
   "execution_count": 4,
   "id": "15c04a85",
   "metadata": {},
   "outputs": [
    {
     "name": "stdout",
     "output_type": "stream",
     "text": [
      "good job,Babbi\n"
     ]
    }
   ],
   "source": [
    "print(f\"good job,{students[0].title()}\")"
   ]
  },
  {
   "cell_type": "code",
   "execution_count": 5,
   "id": "f0ba095e",
   "metadata": {},
   "outputs": [
    {
     "name": "stdout",
     "output_type": "stream",
     "text": [
      "good job,Baby\n"
     ]
    }
   ],
   "source": [
    "print(f\"good job,{students[1].title()}\")"
   ]
  },
  {
   "cell_type": "code",
   "execution_count": null,
   "id": "8da7c55d",
   "metadata": {},
   "outputs": [],
   "source": [
    "this is done manually,so use for loop to get all the students."
   ]
  },
  {
   "cell_type": "code",
   "execution_count": null,
   "id": "731953c0",
   "metadata": {},
   "outputs": [],
   "source": [
    "students = x"
   ]
  },
  {
   "cell_type": "code",
   "execution_count": 6,
   "id": "ca31c52e",
   "metadata": {},
   "outputs": [
    {
     "name": "stdout",
     "output_type": "stream",
     "text": [
      "good job,babbi\n",
      "good job,baby\n",
      "good job,nani\n",
      "good job,raja\n",
      "good job,sweety\n"
     ]
    }
   ],
   "source": [
    "for x in students:\n",
    "    print(f\"good job,{x}\")"
   ]
  },
  {
   "cell_type": "code",
   "execution_count": null,
   "id": "d64a5e4b",
   "metadata": {},
   "outputs": [],
   "source": [
    "for temp_var in main_var:\n",
    "    print(temp_var)"
   ]
  },
  {
   "cell_type": "code",
   "execution_count": 7,
   "id": "0edf76cb",
   "metadata": {},
   "outputs": [
    {
     "name": "stdout",
     "output_type": "stream",
     "text": [
      "babbi\n",
      "baby\n",
      "nani\n",
      "raja\n",
      "sweety\n"
     ]
    }
   ],
   "source": [
    "for a in students:\n",
    "    print(a)"
   ]
  },
  {
   "cell_type": "code",
   "execution_count": 8,
   "id": "fe0dad09",
   "metadata": {},
   "outputs": [
    {
     "name": "stdout",
     "output_type": "stream",
     "text": [
      "Good job,babbi\n",
      "I will be looking forward for todays submission,babbi\n",
      "Good job,baby\n",
      "I will be looking forward for todays submission,baby\n",
      "Good job,nani\n",
      "I will be looking forward for todays submission,nani\n",
      "Good job,raja\n",
      "I will be looking forward for todays submission,raja\n",
      "Good job,sweety\n",
      "I will be looking forward for todays submission,sweety\n"
     ]
    }
   ],
   "source": [
    "for x in students:\n",
    "    print(f\"Good job,{x}\")\n",
    "    print(f\"I will be looking forward for todays submission,{x}\")"
   ]
  },
  {
   "cell_type": "code",
   "execution_count": null,
   "id": "cf17d0f4",
   "metadata": {},
   "outputs": [],
   "source": [
    "enhancing with white space: use\\n \n",
    "    "
   ]
  },
  {
   "cell_type": "code",
   "execution_count": 9,
   "id": "911640f4",
   "metadata": {},
   "outputs": [
    {
     "name": "stdout",
     "output_type": "stream",
     "text": [
      "Good job,babbi\n",
      "I will be looking forward for todays submission,babbi\n",
      "\n",
      "Good job,baby\n",
      "I will be looking forward for todays submission,baby\n",
      "\n",
      "Good job,nani\n",
      "I will be looking forward for todays submission,nani\n",
      "\n",
      "Good job,raja\n",
      "I will be looking forward for todays submission,raja\n",
      "\n",
      "Good job,sweety\n",
      "I will be looking forward for todays submission,sweety\n",
      "\n"
     ]
    }
   ],
   "source": [
    "for x in students:\n",
    "    print(f\"Good job,{x}\")\n",
    "    print(f\"I will be looking forward for todays submission,{x}\\n\")"
   ]
  },
  {
   "cell_type": "code",
   "execution_count": null,
   "id": "726317ff",
   "metadata": {},
   "outputs": [],
   "source": []
  },
  {
   "cell_type": "code",
   "execution_count": null,
   "id": "5eb17df5",
   "metadata": {},
   "outputs": [],
   "source": []
  }
 ],
 "metadata": {
  "kernelspec": {
   "display_name": "Python 3 (ipykernel)",
   "language": "python",
   "name": "python3"
  },
  "language_info": {
   "codemirror_mode": {
    "name": "ipython",
    "version": 3
   },
   "file_extension": ".py",
   "mimetype": "text/x-python",
   "name": "python",
   "nbconvert_exporter": "python",
   "pygments_lexer": "ipython3",
   "version": "3.9.13"
  }
 },
 "nbformat": 4,
 "nbformat_minor": 5
}
