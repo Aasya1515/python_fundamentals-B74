{
 "cells": [
  {
   "cell_type": "code",
   "execution_count": null,
   "id": "f59aa7bc",
   "metadata": {},
   "outputs": [],
   "source": [
    "list datatype:"
   ]
  },
  {
   "cell_type": "code",
   "execution_count": 1,
   "id": "18696d8e",
   "metadata": {},
   "outputs": [],
   "source": [
    "students = ['sri','harsha','rishi','aasya','shrika']"
   ]
  },
  {
   "cell_type": "code",
   "execution_count": 2,
   "id": "5a89042a",
   "metadata": {},
   "outputs": [
    {
     "name": "stdout",
     "output_type": "stream",
     "text": [
      "['sri', 'harsha', 'rishi', 'aasya', 'shrika']\n"
     ]
    }
   ],
   "source": [
    "print(students)"
   ]
  },
  {
   "cell_type": "code",
   "execution_count": null,
   "id": "499b7d11",
   "metadata": {},
   "outputs": [],
   "source": [
    "Indexing:0,1,2,3,4,5........"
   ]
  },
  {
   "cell_type": "code",
   "execution_count": 3,
   "id": "7f23129f",
   "metadata": {},
   "outputs": [
    {
     "name": "stdout",
     "output_type": "stream",
     "text": [
      "harsha\n"
     ]
    }
   ],
   "source": [
    "print(students[1])"
   ]
  },
  {
   "cell_type": "code",
   "execution_count": 4,
   "id": "6814d52e",
   "metadata": {},
   "outputs": [
    {
     "name": "stdout",
     "output_type": "stream",
     "text": [
      "shrika\n"
     ]
    }
   ],
   "source": [
    "print(students[4])"
   ]
  },
  {
   "cell_type": "code",
   "execution_count": 5,
   "id": "01ff9682",
   "metadata": {},
   "outputs": [
    {
     "name": "stdout",
     "output_type": "stream",
     "text": [
      "Shrika\n"
     ]
    }
   ],
   "source": [
    "print(students[4].title())"
   ]
  },
  {
   "cell_type": "code",
   "execution_count": null,
   "id": "efbea0c1",
   "metadata": {},
   "outputs": [],
   "source": [
    "adding to the list:use append"
   ]
  },
  {
   "cell_type": "code",
   "execution_count": 6,
   "id": "fe5d0897",
   "metadata": {},
   "outputs": [],
   "source": [
    "students.append('sloka')"
   ]
  },
  {
   "cell_type": "code",
   "execution_count": 7,
   "id": "7aa46f5b",
   "metadata": {},
   "outputs": [
    {
     "name": "stdout",
     "output_type": "stream",
     "text": [
      "['sri', 'harsha', 'rishi', 'aasya', 'shrika', 'sloka']\n"
     ]
    }
   ],
   "source": [
    "print(students)"
   ]
  },
  {
   "cell_type": "code",
   "execution_count": 8,
   "id": "33f7caf2",
   "metadata": {},
   "outputs": [],
   "source": [
    "students.append('swathi')"
   ]
  },
  {
   "cell_type": "code",
   "execution_count": 9,
   "id": "d10f9483",
   "metadata": {},
   "outputs": [
    {
     "name": "stdout",
     "output_type": "stream",
     "text": [
      "['sri', 'harsha', 'rishi', 'aasya', 'shrika', 'sloka', 'swathi']\n"
     ]
    }
   ],
   "source": [
    "print(students)"
   ]
  },
  {
   "cell_type": "code",
   "execution_count": 10,
   "id": "9f5024af",
   "metadata": {},
   "outputs": [],
   "source": [
    "students.insert(4,'aanya')"
   ]
  },
  {
   "cell_type": "code",
   "execution_count": 11,
   "id": "66657c90",
   "metadata": {},
   "outputs": [
    {
     "name": "stdout",
     "output_type": "stream",
     "text": [
      "['sri', 'harsha', 'rishi', 'aasya', 'aanya', 'shrika', 'sloka', 'swathi']\n"
     ]
    }
   ],
   "source": [
    "print(students)"
   ]
  },
  {
   "cell_type": "code",
   "execution_count": 16,
   "id": "9b5f29a1",
   "metadata": {},
   "outputs": [
    {
     "name": "stdout",
     "output_type": "stream",
     "text": [
      "Aanya\n"
     ]
    }
   ],
   "source": [
    "print(students[4].title())"
   ]
  },
  {
   "cell_type": "code",
   "execution_count": null,
   "id": "73f0bd9b",
   "metadata": {},
   "outputs": [],
   "source": [
    "modifying the students:"
   ]
  },
  {
   "cell_type": "code",
   "execution_count": 17,
   "id": "2d9c1f5d",
   "metadata": {},
   "outputs": [],
   "source": [
    "students[0] = 'chandana'"
   ]
  },
  {
   "cell_type": "code",
   "execution_count": 18,
   "id": "dd5a671d",
   "metadata": {},
   "outputs": [
    {
     "name": "stdout",
     "output_type": "stream",
     "text": [
      "['chandana', 'harsha', 'rishi', 'aasya', 'aanya', 'shrika', 'sloka', 'swathi']\n"
     ]
    }
   ],
   "source": [
    "print(students)"
   ]
  },
  {
   "cell_type": "code",
   "execution_count": null,
   "id": "675a534e",
   "metadata": {},
   "outputs": [],
   "source": [
    "deleting:use del(it will delete the element permanantly.)"
   ]
  },
  {
   "cell_type": "code",
   "execution_count": 19,
   "id": "d595cb7e",
   "metadata": {},
   "outputs": [],
   "source": [
    "del students[6]"
   ]
  },
  {
   "cell_type": "code",
   "execution_count": 20,
   "id": "2878b394",
   "metadata": {},
   "outputs": [
    {
     "name": "stdout",
     "output_type": "stream",
     "text": [
      "['chandana', 'harsha', 'rishi', 'aasya', 'aanya', 'shrika', 'swathi']\n"
     ]
    }
   ],
   "source": [
    "print(students)"
   ]
  },
  {
   "cell_type": "code",
   "execution_count": null,
   "id": "4f56cfbf",
   "metadata": {},
   "outputs": [],
   "source": [
    "temporary deleting:use pop (this will delete temporarily and save as carbon copy)"
   ]
  },
  {
   "cell_type": "code",
   "execution_count": 21,
   "id": "fe7d053e",
   "metadata": {},
   "outputs": [],
   "source": [
    "X = students.pop()"
   ]
  },
  {
   "cell_type": "code",
   "execution_count": 22,
   "id": "84fb194c",
   "metadata": {},
   "outputs": [
    {
     "name": "stdout",
     "output_type": "stream",
     "text": [
      "['chandana', 'harsha', 'rishi', 'aasya', 'aanya', 'shrika']\n"
     ]
    }
   ],
   "source": [
    "print(students)"
   ]
  },
  {
   "cell_type": "code",
   "execution_count": 24,
   "id": "398e8e6b",
   "metadata": {},
   "outputs": [
    {
     "name": "stdout",
     "output_type": "stream",
     "text": [
      "swathi\n"
     ]
    }
   ],
   "source": [
    "print(X)"
   ]
  },
  {
   "cell_type": "code",
   "execution_count": null,
   "id": "485728ec",
   "metadata": {},
   "outputs": [],
   "source": [
    "negative indexing:-1,-2,-3,-4,-5.......called reverse indexing."
   ]
  },
  {
   "cell_type": "code",
   "execution_count": 25,
   "id": "fd059da4",
   "metadata": {},
   "outputs": [
    {
     "name": "stdout",
     "output_type": "stream",
     "text": [
      "shrika\n"
     ]
    }
   ],
   "source": [
    "print(students[-1])"
   ]
  },
  {
   "cell_type": "code",
   "execution_count": null,
   "id": "ff13168d",
   "metadata": {},
   "outputs": [],
   "source": []
  }
 ],
 "metadata": {
  "kernelspec": {
   "display_name": "Python 3 (ipykernel)",
   "language": "python",
   "name": "python3"
  },
  "language_info": {
   "codemirror_mode": {
    "name": "ipython",
    "version": 3
   },
   "file_extension": ".py",
   "mimetype": "text/x-python",
   "name": "python",
   "nbconvert_exporter": "python",
   "pygments_lexer": "ipython3",
   "version": "3.9.13"
  }
 },
 "nbformat": 4,
 "nbformat_minor": 5
}
