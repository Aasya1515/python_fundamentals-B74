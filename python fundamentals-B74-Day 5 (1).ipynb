{
 "cells": [
  {
   "cell_type": "code",
   "execution_count": null,
   "id": "2cda377b",
   "metadata": {},
   "outputs": [],
   "source": [
    "List datatypes:"
   ]
  },
  {
   "cell_type": "code",
   "execution_count": 1,
   "id": "58a13ae8",
   "metadata": {},
   "outputs": [],
   "source": [
    "stores = ['target','walmart','desi brothers','costco','heb']"
   ]
  },
  {
   "cell_type": "code",
   "execution_count": null,
   "id": "7c393d7f",
   "metadata": {},
   "outputs": [],
   "source": [
    "organising the list datatype:"
   ]
  },
  {
   "cell_type": "code",
   "execution_count": null,
   "id": "4ed49a6c",
   "metadata": {},
   "outputs": [],
   "source": [
    "Temporary approach: Use sorted (will get in alaphabetical order A---Z)"
   ]
  },
  {
   "cell_type": "code",
   "execution_count": 2,
   "id": "cba3b2ea",
   "metadata": {},
   "outputs": [
    {
     "name": "stdout",
     "output_type": "stream",
     "text": [
      "['costco', 'desi brothers', 'heb', 'target', 'walmart']\n"
     ]
    }
   ],
   "source": [
    "print(sorted(stores))"
   ]
  },
  {
   "cell_type": "code",
   "execution_count": 3,
   "id": "4709ed68",
   "metadata": {},
   "outputs": [
    {
     "name": "stdout",
     "output_type": "stream",
     "text": [
      "['target', 'walmart', 'desi brothers', 'costco', 'heb']\n"
     ]
    }
   ],
   "source": [
    "print(stores)"
   ]
  },
  {
   "cell_type": "code",
   "execution_count": null,
   "id": "4f675b39",
   "metadata": {},
   "outputs": [],
   "source": [
    "Parmanant approach:Use stores.sort()"
   ]
  },
  {
   "cell_type": "code",
   "execution_count": 5,
   "id": "1da14618",
   "metadata": {},
   "outputs": [
    {
     "name": "stdout",
     "output_type": "stream",
     "text": [
      "['target', 'walmart', 'desi brothers', 'costco', 'heb']\n"
     ]
    }
   ],
   "source": [
    "print(stores)"
   ]
  },
  {
   "cell_type": "code",
   "execution_count": 6,
   "id": "c899a606",
   "metadata": {},
   "outputs": [],
   "source": [
    "stores.sort()"
   ]
  },
  {
   "cell_type": "code",
   "execution_count": 7,
   "id": "3703cf61",
   "metadata": {},
   "outputs": [
    {
     "name": "stdout",
     "output_type": "stream",
     "text": [
      "['costco', 'desi brothers', 'heb', 'target', 'walmart']\n"
     ]
    }
   ],
   "source": [
    "print(stores)"
   ]
  },
  {
   "cell_type": "code",
   "execution_count": 8,
   "id": "0783dbae",
   "metadata": {},
   "outputs": [
    {
     "name": "stdout",
     "output_type": "stream",
     "text": [
      "['costco', 'desi brothers', 'heb', 'target', 'walmart']\n"
     ]
    }
   ],
   "source": [
    "print(stores)"
   ]
  },
  {
   "cell_type": "code",
   "execution_count": null,
   "id": "99a71c01",
   "metadata": {},
   "outputs": [],
   "source": [
    "REVERSE ORDER:Use stores.reverse()"
   ]
  },
  {
   "cell_type": "code",
   "execution_count": 10,
   "id": "cae8e0d8",
   "metadata": {},
   "outputs": [],
   "source": [
    "stores.reverse()"
   ]
  },
  {
   "cell_type": "code",
   "execution_count": 11,
   "id": "5333c829",
   "metadata": {},
   "outputs": [
    {
     "name": "stdout",
     "output_type": "stream",
     "text": [
      "['walmart', 'target', 'heb', 'desi brothers', 'costco']\n"
     ]
    }
   ],
   "source": [
    "print(stores)"
   ]
  },
  {
   "cell_type": "code",
   "execution_count": null,
   "id": "d1613820",
   "metadata": {},
   "outputs": [],
   "source": [
    "To know number of elements in the list :Use len()"
   ]
  },
  {
   "cell_type": "code",
   "execution_count": 12,
   "id": "7ba43acf",
   "metadata": {},
   "outputs": [
    {
     "data": {
      "text/plain": [
       "5"
      ]
     },
     "execution_count": 12,
     "metadata": {},
     "output_type": "execute_result"
    }
   ],
   "source": [
    "len(stores)"
   ]
  },
  {
   "cell_type": "code",
   "execution_count": null,
   "id": "281ada47",
   "metadata": {},
   "outputs": [],
   "source": [
    "SLICING:"
   ]
  },
  {
   "cell_type": "code",
   "execution_count": 13,
   "id": "9d4707c1",
   "metadata": {},
   "outputs": [],
   "source": [
    "continents = ['Asia','Africa','Antarctica','Australia','North America','South America','Europe']"
   ]
  },
  {
   "cell_type": "code",
   "execution_count": 14,
   "id": "61c56158",
   "metadata": {},
   "outputs": [
    {
     "name": "stdout",
     "output_type": "stream",
     "text": [
      "['Asia', 'Africa', 'Antarctica', 'Australia', 'North America', 'South America', 'Europe']\n"
     ]
    }
   ],
   "source": [
    "print(continents)"
   ]
  },
  {
   "cell_type": "code",
   "execution_count": null,
   "id": "79db95a1",
   "metadata": {},
   "outputs": [],
   "source": [
    "General Syntax of Slicing:[startvalue:stopvalue:stepcount]"
   ]
  },
  {
   "cell_type": "code",
   "execution_count": null,
   "id": "0a3d183e",
   "metadata": {},
   "outputs": [],
   "source": [
    "Here stop value is always exclusive . So,to include the stop value we have to always increment its index by adding 1(+1)"
   ]
  },
  {
   "cell_type": "code",
   "execution_count": null,
   "id": "ea33db43",
   "metadata": {},
   "outputs": [],
   "source": [
    "If you want Asia and Africa in the output ----index of Asia is 0 and index of Africa is 1 which is our stop value here\n",
    "so,increment that index number with +1 which become 2.then our start value is 0 and stop value becomes 2 ."
   ]
  },
  {
   "cell_type": "code",
   "execution_count": 16,
   "id": "3d1d9df1",
   "metadata": {},
   "outputs": [
    {
     "name": "stdout",
     "output_type": "stream",
     "text": [
      "['Asia', 'Africa']\n"
     ]
    }
   ],
   "source": [
    "print(continents[0:2])"
   ]
  },
  {
   "cell_type": "code",
   "execution_count": null,
   "id": "14c5b16a",
   "metadata": {},
   "outputs": [],
   "source": [
    "If you want Antarctica and North America :startvalue is 2 and stopvalue is 4+1=5"
   ]
  },
  {
   "cell_type": "code",
   "execution_count": 17,
   "id": "392ecd9e",
   "metadata": {},
   "outputs": [
    {
     "name": "stdout",
     "output_type": "stream",
     "text": [
      "['Antarctica', 'Australia', 'North America']\n"
     ]
    }
   ],
   "source": [
    "print(continents[2:5])"
   ]
  },
  {
   "cell_type": "code",
   "execution_count": 18,
   "id": "b4bbd123",
   "metadata": {},
   "outputs": [
    {
     "name": "stdout",
     "output_type": "stream",
     "text": [
      "['South America', 'Europe']\n"
     ]
    }
   ],
   "source": [
    "print(continents[5:7])"
   ]
  },
  {
   "cell_type": "code",
   "execution_count": null,
   "id": "f44dcb40",
   "metadata": {},
   "outputs": [],
   "source": [
    "To get every alternate continent:its stepcount of 2 .Use 2 in stepcount place."
   ]
  },
  {
   "cell_type": "code",
   "execution_count": 19,
   "id": "a4ad169c",
   "metadata": {},
   "outputs": [
    {
     "name": "stdout",
     "output_type": "stream",
     "text": [
      "['Asia', 'Antarctica', 'North America', 'Europe']\n"
     ]
    }
   ],
   "source": [
    "print(continents[0:7:2])"
   ]
  },
  {
   "cell_type": "code",
   "execution_count": 20,
   "id": "ca6cb600",
   "metadata": {},
   "outputs": [
    {
     "name": "stdout",
     "output_type": "stream",
     "text": [
      "['Asia', 'Australia', 'Europe']\n"
     ]
    }
   ],
   "source": [
    "print(continents[0:7:3])"
   ]
  },
  {
   "cell_type": "code",
   "execution_count": null,
   "id": "f0458651",
   "metadata": {},
   "outputs": [],
   "source": []
  }
 ],
 "metadata": {
  "kernelspec": {
   "display_name": "Python 3 (ipykernel)",
   "language": "python",
   "name": "python3"
  },
  "language_info": {
   "codemirror_mode": {
    "name": "ipython",
    "version": 3
   },
   "file_extension": ".py",
   "mimetype": "text/x-python",
   "name": "python",
   "nbconvert_exporter": "python",
   "pygments_lexer": "ipython3",
   "version": "3.9.13"
  }
 },
 "nbformat": 4,
 "nbformat_minor": 5
}
